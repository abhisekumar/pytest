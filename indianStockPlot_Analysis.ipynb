{
  "nbformat": 4,
  "nbformat_minor": 0,
  "metadata": {
    "colab": {
      "name": "indianStockPlot_Analysis.ipynb",
      "provenance": [],
      "collapsed_sections": [],
      "authorship_tag": "ABX9TyMqDS9DFReMw+a7R8tXk8Gj",
      "include_colab_link": true
    },
    "kernelspec": {
      "name": "python3",
      "display_name": "Python 3"
    }
  },
  "cells": [
    {
      "cell_type": "markdown",
      "metadata": {
        "id": "view-in-github",
        "colab_type": "text"
      },
      "source": [
        "<a href=\"https://colab.research.google.com/github/abhisekumar/pytest/blob/main/indianStockPlot_Analysis.ipynb\" target=\"_parent\"><img src=\"https://colab.research.google.com/assets/colab-badge.svg\" alt=\"Open In Colab\"/></a>"
      ]
    },
    {
      "cell_type": "code",
      "metadata": {
        "id": "RpjooFGFEHTL"
      },
      "source": [
        "#!pip install yfinance\n",
        "#!pip install matplotlib\n",
        "#!pip install seaborn"
      ],
      "execution_count": 23,
      "outputs": []
    },
    {
      "cell_type": "code",
      "metadata": {
        "id": "iWsYPuqahBGE"
      },
      "source": [
        "import pandas as pd \n",
        "import datetime\n",
        "import pandas_datareader.data as web\n",
        "import numpy as np\n",
        "#import requests\n",
        "import yfinance as yf\n",
        "import matplotlib.pyplot as plt\n",
        "import seaborn"
      ],
      "execution_count": 39,
      "outputs": []
    },
    {
      "cell_type": "code",
      "metadata": {
        "id": "pW9uEUrph3FX"
      },
      "source": [
        "from pandas import Series, DataFrame\n",
        "start = datetime.datetime(2016,1,1)\n",
        "end = datetime.datetime(2020, 12, 31)\n"
      ],
      "execution_count": 42,
      "outputs": []
    },
    {
      "cell_type": "code",
      "metadata": {
        "colab": {
          "base_uri": "https://localhost:8080/"
        },
        "id": "jxPRgkKFbPKL",
        "outputId": "cf193d48-d40e-4e90-8614-51f501c52b44"
      },
      "source": [
        "stockCode =input(\"Ticker name? Ex: RELIANCE.NS , VEDL.NS\")\n",
        "#periodDay = input(\"Geaph Period in days, (Ex:10) \")"
      ],
      "execution_count": 44,
      "outputs": [
        {
          "output_type": "stream",
          "text": [
            "Ticker name? Ex: RELIANCE.NS , VEDL.NSRELIANCE.NS\n"
          ],
          "name": "stdout"
        }
      ]
    },
    {
      "cell_type": "code",
      "metadata": {
        "id": "EeaduUSihKiq"
      },
      "source": [
        "#load the data \n",
        "#msft = yf.Ticker(stockCode)\n",
        "#print(msft.info)\n",
        "#hist = msft.history(period=periodDay+\"d\")\n"
      ],
      "execution_count": 33,
      "outputs": []
    },
    {
      "cell_type": "code",
      "metadata": {
        "id": "9Lhuu3o3ERYy"
      },
      "source": [
        "# Plot everything by leveraging the very powerful matplotlib package\n",
        "#hist['Close'].plot(figsize=(20, 10))"
      ],
      "execution_count": 43,
      "outputs": []
    },
    {
      "cell_type": "code",
      "metadata": {
        "colab": {
          "base_uri": "https://localhost:8080/",
          "height": 235
        },
        "id": "-BpRQNaqjKhl",
        "outputId": "3f2d086a-3a3a-4519-9144-dbf962afa64e"
      },
      "source": [
        "df = web.DataReader(stockCode, 'yahoo',start,end)\n",
        "df.tail()"
      ],
      "execution_count": 45,
      "outputs": [
        {
          "output_type": "execute_result",
          "data": {
            "text/html": [
              "<div>\n",
              "<style scoped>\n",
              "    .dataframe tbody tr th:only-of-type {\n",
              "        vertical-align: middle;\n",
              "    }\n",
              "\n",
              "    .dataframe tbody tr th {\n",
              "        vertical-align: top;\n",
              "    }\n",
              "\n",
              "    .dataframe thead th {\n",
              "        text-align: right;\n",
              "    }\n",
              "</style>\n",
              "<table border=\"1\" class=\"dataframe\">\n",
              "  <thead>\n",
              "    <tr style=\"text-align: right;\">\n",
              "      <th></th>\n",
              "      <th>High</th>\n",
              "      <th>Low</th>\n",
              "      <th>Open</th>\n",
              "      <th>Close</th>\n",
              "      <th>Volume</th>\n",
              "      <th>Adj Close</th>\n",
              "    </tr>\n",
              "    <tr>\n",
              "      <th>Date</th>\n",
              "      <th></th>\n",
              "      <th></th>\n",
              "      <th></th>\n",
              "      <th></th>\n",
              "      <th></th>\n",
              "      <th></th>\n",
              "    </tr>\n",
              "  </thead>\n",
              "  <tbody>\n",
              "    <tr>\n",
              "      <th>2020-12-28</th>\n",
              "      <td>2018.000000</td>\n",
              "      <td>1995.300049</td>\n",
              "      <td>2006.699951</td>\n",
              "      <td>2003.300049</td>\n",
              "      <td>7947719.0</td>\n",
              "      <td>2003.300049</td>\n",
              "    </tr>\n",
              "    <tr>\n",
              "      <th>2020-12-29</th>\n",
              "      <td>2012.300049</td>\n",
              "      <td>1982.550049</td>\n",
              "      <td>2009.000000</td>\n",
              "      <td>1990.050049</td>\n",
              "      <td>8589407.0</td>\n",
              "      <td>1990.050049</td>\n",
              "    </tr>\n",
              "    <tr>\n",
              "      <th>2020-12-30</th>\n",
              "      <td>2007.199951</td>\n",
              "      <td>1975.550049</td>\n",
              "      <td>1995.250000</td>\n",
              "      <td>1995.500000</td>\n",
              "      <td>10173132.0</td>\n",
              "      <td>1995.500000</td>\n",
              "    </tr>\n",
              "    <tr>\n",
              "      <th>2020-12-31</th>\n",
              "      <td>2011.900024</td>\n",
              "      <td>1978.599976</td>\n",
              "      <td>1993.500000</td>\n",
              "      <td>1985.300049</td>\n",
              "      <td>8667516.0</td>\n",
              "      <td>1985.300049</td>\n",
              "    </tr>\n",
              "    <tr>\n",
              "      <th>2021-01-01</th>\n",
              "      <td>1997.000000</td>\n",
              "      <td>1982.000000</td>\n",
              "      <td>1988.000000</td>\n",
              "      <td>1987.500000</td>\n",
              "      <td>4622002.0</td>\n",
              "      <td>1987.500000</td>\n",
              "    </tr>\n",
              "  </tbody>\n",
              "</table>\n",
              "</div>"
            ],
            "text/plain": [
              "                   High          Low  ...      Volume    Adj Close\n",
              "Date                                  ...                         \n",
              "2020-12-28  2018.000000  1995.300049  ...   7947719.0  2003.300049\n",
              "2020-12-29  2012.300049  1982.550049  ...   8589407.0  1990.050049\n",
              "2020-12-30  2007.199951  1975.550049  ...  10173132.0  1995.500000\n",
              "2020-12-31  2011.900024  1978.599976  ...   8667516.0  1985.300049\n",
              "2021-01-01  1997.000000  1982.000000  ...   4622002.0  1987.500000\n",
              "\n",
              "[5 rows x 6 columns]"
            ]
          },
          "metadata": {
            "tags": []
          },
          "execution_count": 45
        }
      ]
    }
  ]
}